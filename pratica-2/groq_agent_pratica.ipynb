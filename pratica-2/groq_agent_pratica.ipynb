{
  "nbformat": 4,
  "nbformat_minor": 0,
  "metadata": {
    "colab": {
      "provenance": [],
      "authorship_tag": "ABX9TyOfUjH/LCP0Zkm5LI7CaJLR",
      "include_colab_link": true
    },
    "kernelspec": {
      "name": "python3",
      "display_name": "Python 3"
    },
    "language_info": {
      "name": "python"
    }
  },
  "cells": [
    {
      "cell_type": "markdown",
      "metadata": {
        "id": "view-in-github",
        "colab_type": "text"
      },
      "source": [
        "<a href=\"https://colab.research.google.com/github/arthur-b-martins/AI-Agents-Lamia/blob/main/pratica-2/groq_agent_pratica.ipynb\" target=\"_parent\"><img src=\"https://colab.research.google.com/assets/colab-badge.svg\" alt=\"Open In Colab\"/></a>"
      ]
    },
    {
      "cell_type": "code",
      "source": [
        "%pip install groq"
      ],
      "metadata": {
        "colab": {
          "base_uri": "https://localhost:8080/"
        },
        "collapsed": true,
        "id": "ZJWeQveLRt7g",
        "outputId": "dcef0b26-17de-4c66-a415-74cfb609edeb"
      },
      "execution_count": null,
      "outputs": [
        {
          "output_type": "stream",
          "name": "stdout",
          "text": [
            "Requirement already satisfied: groq in /usr/local/lib/python3.11/dist-packages (0.24.0)\n",
            "Requirement already satisfied: anyio<5,>=3.5.0 in /usr/local/lib/python3.11/dist-packages (from groq) (4.9.0)\n",
            "Requirement already satisfied: distro<2,>=1.7.0 in /usr/local/lib/python3.11/dist-packages (from groq) (1.9.0)\n",
            "Requirement already satisfied: httpx<1,>=0.23.0 in /usr/local/lib/python3.11/dist-packages (from groq) (0.28.1)\n",
            "Requirement already satisfied: pydantic<3,>=1.9.0 in /usr/local/lib/python3.11/dist-packages (from groq) (2.11.4)\n",
            "Requirement already satisfied: sniffio in /usr/local/lib/python3.11/dist-packages (from groq) (1.3.1)\n",
            "Requirement already satisfied: typing-extensions<5,>=4.10 in /usr/local/lib/python3.11/dist-packages (from groq) (4.13.2)\n",
            "Requirement already satisfied: idna>=2.8 in /usr/local/lib/python3.11/dist-packages (from anyio<5,>=3.5.0->groq) (3.10)\n",
            "Requirement already satisfied: certifi in /usr/local/lib/python3.11/dist-packages (from httpx<1,>=0.23.0->groq) (2025.4.26)\n",
            "Requirement already satisfied: httpcore==1.* in /usr/local/lib/python3.11/dist-packages (from httpx<1,>=0.23.0->groq) (1.0.9)\n",
            "Requirement already satisfied: h11>=0.16 in /usr/local/lib/python3.11/dist-packages (from httpcore==1.*->httpx<1,>=0.23.0->groq) (0.16.0)\n",
            "Requirement already satisfied: annotated-types>=0.6.0 in /usr/local/lib/python3.11/dist-packages (from pydantic<3,>=1.9.0->groq) (0.7.0)\n",
            "Requirement already satisfied: pydantic-core==2.33.2 in /usr/local/lib/python3.11/dist-packages (from pydantic<3,>=1.9.0->groq) (2.33.2)\n",
            "Requirement already satisfied: typing-inspection>=0.4.0 in /usr/local/lib/python3.11/dist-packages (from pydantic<3,>=1.9.0->groq) (0.4.0)\n"
          ]
        }
      ]
    },
    {
      "cell_type": "code",
      "execution_count": null,
      "metadata": {
        "id": "5WmugQ7pLs4F"
      },
      "outputs": [],
      "source": [
        "import os\n",
        "import re\n",
        "from typing import List, TypedDict\n",
        "os.environ['GROQ_API_KEY'] = \"gsk_uuEF8TCY\""
      ]
    },
    {
      "cell_type": "code",
      "source": [
        "from groq import Groq\n",
        "\n",
        "client = Groq(\n",
        "    api_key=os.environ.get(\"GROQ_API_KEY\"),\n",
        ")\n",
        "\n",
        "chat_completion = client.chat.completions.create(\n",
        "    messages=[\n",
        "        {\n",
        "            \"role\": \"user\",\n",
        "            \"content\": \"Explain the importance of fast cars\",\n",
        "        }\n",
        "    ],\n",
        "    model=\"llama3-70b-8192\",\n",
        ")\n",
        "\n",
        "print(chat_completion.choices[0].message.content)"
      ],
      "metadata": {
        "colab": {
          "base_uri": "https://localhost:8080/"
        },
        "id": "QFk0cmmRU9GV",
        "outputId": "739b0cc5-4503-4ae8-8318-cb85364cbb94"
      },
      "execution_count": null,
      "outputs": [
        {
          "output_type": "stream",
          "name": "stdout",
          "text": [
            "The thrill of the open road and the rush of adrenaline! While not everyone may share the enthusiasm for fast cars, there are certain benefits and importance to high-performance vehicles. Here are some points to consider:\n",
            "\n",
            "1. **Innovation and Technology**: Fast cars push the boundaries of automotive technology, driving innovation in fields like aerodynamics, engine design, and materials engineering. These advancements often trickle down to mainstream vehicles, improving overall performance, safety, and efficiency.\n",
            "2. **Safety**: Paradoxically, fast cars are often safer than their slower counterparts. They typically feature advanced safety features, such as high-performance brakes, improved crash structures, and sophisticated active safety systems.\n",
            "3. **Performance and Handling**: Fast cars provide a unique driving experience, allowing drivers to explore the limits of their skills and enjoy the thrill of acceleration, cornering, and braking. This can improve driving skills and situational awareness.\n",
            "4. **Community and Culture**: Enthusiasts of fast cars often form close-knit communities, fostering a sense of camaraderie and shared passion. This can lead to a greater appreciation for the art, design, and engineering that goes into creating high-performance vehicles.\n",
            "5. **Competition and Racing**: Fast cars enable competitions, such as professional racing and amateur track days, promoting a culture of healthy competition, sportsmanship, and skill improvement.\n",
            "6. **Emotional Connection**: Fast cars can evoke strong emotions, creating a deep connection between the driver and the vehicle. This emotional attachment can lead to a greater appreciation for the art of driving and the joy of motoring.\n",
            "7. **Economic Impact**: The high-performance car industry generates significant revenue, creating jobs, and stimulating local economies. The motorsport sector alone is estimated to be worth over $10 billion globally.\n",
            "9. **Heritage and Legacy**: Fast cars often become iconic symbols of a particular era or brand, contributing to a rich cultural heritage. Examples include the Porsche 911, Chevrolet Corvette, or Ford Mustang.\n",
            "10. **Driving Experience**: Fast cars offer an unparalleled sense of freedom and exhilaration, providing an intense driving experience that can be both thrilling and cathartic.\n",
            "\n",
            "While not everyone may share the enthusiasm for fast cars, it's essential to recognize the importance of high-performance vehicles in driving innovation, advancing safety, and fostering a sense of community and culture.\n"
          ]
        }
      ]
    },
    {
      "cell_type": "code",
      "source": [
        "class Agent:\n",
        "  def __init__(self, client, system):\n",
        "    self.client = client\n",
        "    self.system = system\n",
        "    self.messages = []\n",
        "    if self.system is not None:\n",
        "      self.messages.append({\"role\": \"system\", \"content\": self.system})\n",
        "\n",
        "  def __call__(self, message=\"\"):\n",
        "    if message:\n",
        "      self.messages.append({\"role\": \"user\", \"content\": message})\n",
        "    result = self.execute()\n",
        "    self.messages.append({\"role\": \"assistant\", \"content\": result})\n",
        "    return result\n",
        "\n",
        "  def execute(self):\n",
        "    completion = client.chat.completions.create(\n",
        "        messages=self.messages,\n",
        "        model=\"llama3-70b-8192\"\n",
        "    )\n",
        "    return completion.choices[0].message.content\n",
        "\n"
      ],
      "metadata": {
        "id": "mIeSohkTeR0P"
      },
      "execution_count": null,
      "outputs": []
    },
    {
      "cell_type": "code",
      "source": [
        "system_prompt = \"\"\"\n",
        "You run in a loop of Thought, Action, PAUSE, Observation.\n",
        "At the end of the loop you output an Answer\n",
        "Use Thought to describe your thoughts about the question you have been asked.\n",
        "Use Action to run one of the actions available to you - then return PAUSE.\n",
        "Observation will be the result of running those actions.\n",
        "\n",
        "Your available actions are:\n",
        "\n",
        "get_all_from:\n",
        "e.g. get_all_from:STOCK\n",
        "returns the whole table of products in stock\n",
        "there are two tables: STOCK, STORE\n",
        "\n",
        "get_filtered_from:\n",
        "e.g get_filtered_from:STORE,\"quantity\", lambda x:x < 10\n",
        "returns the items of products in store with quantity less than 10.\n",
        "there are three fields: \"quantity\", \"name\", \"price\"\n",
        "you must always use get_filtered_from because it is more efficient.\n",
        "be carefull with lambda expressions, you can not call Observation as\n",
        "a list.\n",
        "\n",
        "Example session:\n",
        "\n",
        "Question: is there any product missing in store that we have in stock?\n",
        "Thought: I need to check the store\n",
        "Action: get_all_from:STORE\n",
        "PAUSE\n",
        "\n",
        "You will be called again with this:\n",
        "\n",
        "Observation: [\n",
        "    {\"name\": \"milk\", \"quantity\": 3, \"price\": 2.5},\n",
        "    {\"name\": \"pasta\", \"quantity\": 13, \"price\": 1.5},\n",
        "    {\"name\": \"rice\", \"quantity\": 0, \"price\": 12},\n",
        "    {\"name\": \"sugar\", \"quantity\": 12, \"price\": 5},\n",
        "    {\"name\": \"flour\", \"quantity\": 22, \"price\": 2.2},\n",
        "    {\"name\": \"coffee\", \"quantity\": 0, \"price\": 25},\n",
        "    {\"name\": \"Oil\", \"quantity\": 23, \"price\": 3},\n",
        "]\n",
        "\n",
        "Thought: I need to look for rice and coffee in stock\n",
        "Action: get_filtered_from:STOCK,\"name\", lambda x: x == \"rice\" or x == \"coffee\"\n",
        "PAUSE\n",
        "\n",
        "You will be called again with this:\n",
        "\n",
        "Observation: [\n",
        "    {\"name\": \"rice\", \"quantity\": 12, \"price\": 12},\n",
        "    {\"name\": \"coffee\", \"quantity\": 0, \"price\": 25},\n",
        "]\n",
        "\n",
        "If you have the answer, output it as the Answer.\n",
        "\n",
        "Answer: hey! There isn't coffee and rice in your store anymore,\n",
        "but there is rice in stock, you should bring it!!.\n",
        "\n",
        "Now it's your turn:\n",
        "\"\"\".strip()"
      ],
      "metadata": {
        "id": "YAqGZiEoT9J8"
      },
      "execution_count": null,
      "outputs": []
    },
    {
      "cell_type": "code",
      "source": [
        "class Item(TypedDict):\n",
        "  name: str\n",
        "  quantity: int\n",
        "  price: float\n",
        "\n",
        "STOCK: List[Item] = [\n",
        "    {\"name\": \"milk\", \"quantity\": 13, \"price\": 2.5},\n",
        "    {\"name\": \"pasta\", \"quantity\": 213, \"price\": 1.5},\n",
        "    {\"name\": \"rice\", \"quantity\": 132, \"price\": 12},\n",
        "    {\"name\": \"sugar\", \"quantity\": 22, \"price\": 5},\n",
        "    {\"name\": \"flour\", \"quantity\": 0, \"price\": 2.2},\n",
        "    {\"name\": \"coffee\", \"quantity\": 20, \"price\": 25},\n",
        "    {\"name\": \"Oil\", \"quantity\": 103, \"price\": 3},\n",
        "]\n",
        "\n",
        "STORE: List[Item] = [\n",
        "    {\"name\": \"milk\", \"quantity\": 13, \"price\": 2.5},\n",
        "    {\"name\": \"pasta\", \"quantity\": 3, \"price\": 1.5},\n",
        "    {\"name\": \"rice\", \"quantity\": 17, \"price\": 12},\n",
        "    {\"name\": \"sugar\", \"quantity\": 12, \"price\": 5},\n",
        "    {\"name\": \"flour\", \"quantity\": 2, \"price\": 2.2},\n",
        "    {\"name\": \"coffee\", \"quantity\": 10, \"price\": 25},\n",
        "    {\"name\": \"Oil\", \"quantity\": 23, \"price\": 3},\n",
        "]\n",
        "\n",
        "def get_filtered_from(table: List[Item], field: str, lambdaFunction) -> str:\n",
        "    return str([item for item in table if lambdaFunction(item[field])])\n",
        "\n",
        "def get_all_from(table: List[Item]) -> str:\n",
        "    return str(table)"
      ],
      "metadata": {
        "id": "MkUfTsxlUtSX"
      },
      "execution_count": null,
      "outputs": []
    },
    {
      "cell_type": "code",
      "source": [
        "print(get_filtered_from(STORE, \"quantity\", lambda x: x < 10))"
      ],
      "metadata": {
        "colab": {
          "base_uri": "https://localhost:8080/"
        },
        "id": "3nnLxuiUeoLN",
        "outputId": "43e28e81-592a-4de7-8482-7064f05da9a3"
      },
      "execution_count": null,
      "outputs": [
        {
          "output_type": "stream",
          "name": "stdout",
          "text": [
            "[{'name': 'milk', 'quantity': 3, 'price': 2.5}, {'name': 'rice', 'quantity': 0, 'price': 12}, {'name': 'coffee', 'quantity': 0, 'price': 25}]\n"
          ]
        }
      ]
    },
    {
      "cell_type": "code",
      "source": [
        "marketFriend = Agent(client=client, system=system_prompt)"
      ],
      "metadata": {
        "id": "Y_5kEvzUbtjT"
      },
      "execution_count": null,
      "outputs": []
    },
    {
      "cell_type": "code",
      "source": [
        "res = marketFriend(\"is there oil in stock\")\n",
        "print(res)"
      ],
      "metadata": {
        "colab": {
          "base_uri": "https://localhost:8080/"
        },
        "id": "4Y287UZucP9l",
        "outputId": "4d869b12-8d77-4ae2-c2c2-5b46d6cdd35b"
      },
      "execution_count": null,
      "outputs": [
        {
          "output_type": "stream",
          "name": "stdout",
          "text": [
            "Thought: I need to check if oil is in stock\n",
            "Action: get_filtered_from:STOCK,\"name\", lambda x: x == \"oil\"\n",
            "PAUSE\n"
          ]
        }
      ]
    },
    {
      "cell_type": "code",
      "source": [
        "res = marketFriend(\"Observation: []\")\n",
        "print(res)"
      ],
      "metadata": {
        "colab": {
          "base_uri": "https://localhost:8080/"
        },
        "id": "Y82fcdAvfYok",
        "outputId": "e586f171-5132-467c-96d3-1abfccab9c39"
      },
      "execution_count": null,
      "outputs": [
        {
          "output_type": "stream",
          "name": "stdout",
          "text": [
            "Thought: I didn't find oil in stock\n",
            "Answer: Nope, there is no oil in stock.\n"
          ]
        }
      ]
    },
    {
      "cell_type": "code",
      "source": [
        "def agent_loop(max, system, query):\n",
        "  agent = Agent(client, system)\n",
        "  next_prompt = query\n",
        "  tools = ['get_filtered_from', 'get_all_from']\n",
        "\n",
        "  for i in range(max):\n",
        "    result = agent(next_prompt)\n",
        "    print(result)\n",
        "\n",
        "    if \"PAUSE\" in result:\n",
        "      action = re.findall(r\"Action: ([a-z_]+):(.+)\", result, re.IGNORECASE)\n",
        "      chosen_tool = action[0][0]\n",
        "      arg = action[0][1]\n",
        "\n",
        "      if chosen_tool in tools:\n",
        "        tool_response = eval(f\"{chosen_tool}({arg})\")\n",
        "        next_prompt = f\"Observation: {tool_response}\"\n",
        "\n",
        "      else:\n",
        "        next_prompt = \"Observation: tool not found\"\n",
        "\n",
        "      print(next_prompt)\n",
        "      continue\n",
        "\n",
        "\n",
        "    if \"Answer\" in result:\n",
        "      break\n",
        "\n",
        "    # clean next_prompt if the last was only a thought\n",
        "    if \"Thought\" in result:\n",
        "      next_prompt = \"\""
      ],
      "metadata": {
        "id": "zM3UcZfbkKqb"
      },
      "execution_count": null,
      "outputs": []
    },
    {
      "cell_type": "code",
      "source": [
        "agent_loop(20, system_prompt, \"Do we have products less than 10 units in store? Which of them we can bring more from the stock?\")"
      ],
      "metadata": {
        "colab": {
          "base_uri": "https://localhost:8080/"
        },
        "id": "Mqi-gD-Xr9p1",
        "outputId": "c262a37b-d641-4065-d51d-e5915b14aaa1"
      },
      "execution_count": null,
      "outputs": [
        {
          "output_type": "stream",
          "name": "stdout",
          "text": [
            "Thought: I need to check the store for products with less than 10 units.\n",
            "\n",
            "Action: get_filtered_from:STORE,\"quantity\", lambda x: x < 10\n",
            "PAUSE\n",
            "Observation: [{'name': 'pasta', 'quantity': 3, 'price': 1.5}, {'name': 'flour', 'quantity': 2, 'price': 2.2}]\n",
            "Thought: I need to check if we have more of these products in stock.\n",
            "\n",
            "Action: get_filtered_from:STOCK,\"name\", lambda x: x in [\"pasta\", \"flour\"]\n",
            "PAUSE\n",
            "Observation: [{'name': 'pasta', 'quantity': 213, 'price': 1.5}, {'name': 'flour', 'quantity': 0, 'price': 2.2}]\n",
            "Thought: It seems we can bring more pasta from stock.\n",
            "\n",
            "Answer: Yes, we have products less than 10 units in store and we can bring pasta from stock.\n"
          ]
        }
      ]
    }
  ]
}
